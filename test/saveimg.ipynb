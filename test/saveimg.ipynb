{
 "cells": [
  {
   "cell_type": "code",
   "execution_count": 39,
   "metadata": {
    "ExecuteTime": {
     "end_time": "2022-02-13T09:32:07.092008Z",
     "start_time": "2022-02-13T09:32:07.081985Z"
    }
   },
   "outputs": [],
   "source": [
    "import urllib.request\n",
    " \n",
    "def getHtml(url):\n",
    "    html = urllib.request.urlopen(url).read()\n",
    "    return html\n",
    " \n",
    "def saveHtml(file_name, file_content):\n",
    "    # 注意windows文件命名的禁用符，比如 /\n",
    "    with open(file_name.replace('/', '_') + \".html\", \"wb\") as f:\n",
    "        # 写文件用bytes而不是str，所以要转码\n",
    "        f.write(file_content)"
   ]
  },
  {
   "cell_type": "code",
   "execution_count": 40,
   "metadata": {
    "ExecuteTime": {
     "end_time": "2022-02-13T09:32:08.237890Z",
     "start_time": "2022-02-13T09:32:07.936333Z"
    }
   },
   "outputs": [
    {
     "name": "stdout",
     "output_type": "stream",
     "text": [
      "下载成功\n"
     ]
    }
   ],
   "source": [
    "aurl = \"https://www.shanghaimuseum.net/mu/frontend/pg/article/id/CI00005593\"\n",
    "html = getHtml(aurl)\n",
    "saveHtml(\"sduview\", html)\n",
    " \n",
    "print(\"下载成功\")"
   ]
  },
  {
   "cell_type": "code",
   "execution_count": 27,
   "metadata": {
    "ExecuteTime": {
     "end_time": "2022-02-13T09:29:19.848222Z",
     "start_time": "2022-02-13T09:29:19.843221Z"
    }
   },
   "outputs": [],
   "source": [
    "from bs4 import BeautifulSoup"
   ]
  },
  {
   "cell_type": "code",
   "execution_count": 42,
   "metadata": {
    "ExecuteTime": {
     "end_time": "2022-02-13T09:33:07.923799Z",
     "start_time": "2022-02-13T09:33:07.898687Z"
    },
    "scrolled": false
   },
   "outputs": [],
   "source": [
    "soup = BeautifulSoup(open('sduview.html', 'rb'),features='html.parser')"
   ]
  },
  {
   "cell_type": "code",
   "execution_count": 43,
   "metadata": {
    "ExecuteTime": {
     "end_time": "2022-02-13T09:33:08.835267Z",
     "start_time": "2022-02-13T09:33:08.831241Z"
    },
    "scrolled": false
   },
   "outputs": [
    {
     "data": {
      "text/plain": [
       "<title>上海博物馆</title>"
      ]
     },
     "execution_count": 43,
     "metadata": {},
     "output_type": "execute_result"
    }
   ],
   "source": [
    "soup.title"
   ]
  },
  {
   "cell_type": "code",
   "execution_count": 68,
   "metadata": {
    "ExecuteTime": {
     "end_time": "2022-02-13T09:46:21.876458Z",
     "start_time": "2022-02-13T09:46:21.855137Z"
    },
    "scrolled": false
   },
   "outputs": [
    {
     "data": {
      "text/plain": [
       "<img data-lazy=\"upload/202109/1cfd9959-0fa4-47d2-814a-2af74557f82e.jpg\"/>"
      ]
     },
     "execution_count": 68,
     "metadata": {},
     "output_type": "execute_result"
    }
   ],
   "source": [
    "soup.find(id='slider2').img"
   ]
  },
  {
   "cell_type": "code",
   "execution_count": 71,
   "metadata": {
    "ExecuteTime": {
     "end_time": "2022-02-13T09:48:19.919141Z",
     "start_time": "2022-02-13T09:48:19.899115Z"
    }
   },
   "outputs": [
    {
     "data": {
      "text/plain": [
       "'upload/202109/1cfd9959-0fa4-47d2-814a-2af74557f82e.jpg'"
      ]
     },
     "execution_count": 71,
     "metadata": {},
     "output_type": "execute_result"
    }
   ],
   "source": [
    "soup.find(id='slider1').img.attrs['data-lazy']"
   ]
  },
  {
   "cell_type": "code",
   "execution_count": 76,
   "metadata": {
    "ExecuteTime": {
     "end_time": "2022-02-13T09:49:12.305600Z",
     "start_time": "2022-02-13T09:49:12.294729Z"
    }
   },
   "outputs": [
    {
     "data": {
      "text/plain": [
       "['title']"
      ]
     },
     "execution_count": 76,
     "metadata": {},
     "output_type": "execute_result"
    }
   ],
   "source": [
    "soup.find(id='gallery1-caption').div['class']"
   ]
  },
  {
   "cell_type": "code",
   "execution_count": 80,
   "metadata": {
    "ExecuteTime": {
     "end_time": "2022-02-13T09:49:55.700905Z",
     "start_time": "2022-02-13T09:49:55.684902Z"
    }
   },
   "outputs": [
    {
     "data": {
      "text/plain": [
       "'李叔同 行书华严经句轴'"
      ]
     },
     "execution_count": 80,
     "metadata": {},
     "output_type": "execute_result"
    }
   ],
   "source": [
    "soup.find(id='gallery1-caption').div.string"
   ]
  },
  {
   "cell_type": "code",
   "execution_count": 82,
   "metadata": {
    "ExecuteTime": {
     "end_time": "2022-02-13T10:01:26.426138Z",
     "start_time": "2022-02-13T10:01:26.413033Z"
    }
   },
   "outputs": [
    {
     "ename": "NameError",
     "evalue": "name 'null' is not defined",
     "output_type": "error",
     "traceback": [
      "\u001b[1;31m---------------------------------------------------------------------------\u001b[0m",
      "\u001b[1;31mNameError\u001b[0m                                 Traceback (most recent call last)",
      "\u001b[1;32m<ipython-input-82-d1c4094f47c2>\u001b[0m in \u001b[0;36m<module>\u001b[1;34m()\u001b[0m\n\u001b[1;32m----> 1\u001b[1;33m \u001b[0md\u001b[0m \u001b[1;33m=\u001b[0m \u001b[1;33m[\u001b[0m\u001b[1;33m{\u001b[0m\u001b[1;34m\"code\"\u001b[0m\u001b[1;33m:\u001b[0m\u001b[1;34m\"CI00005593\"\u001b[0m\u001b[1;33m,\u001b[0m\u001b[1;34m\"id\"\u001b[0m\u001b[1;33m:\u001b[0m\u001b[1;36m67493\u001b[0m\u001b[1;33m,\u001b[0m\u001b[1;34m\"museumEntity\"\u001b[0m\u001b[1;33m:\u001b[0m\u001b[1;33m{\u001b[0m\u001b[1;34m\"catalog\"\u001b[0m\u001b[1;33m:\u001b[0m\u001b[0mnull\u001b[0m\u001b[1;33m,\u001b[0m\u001b[1;34m\"code\"\u001b[0m\u001b[1;33m:\u001b[0m\u001b[1;34m\"P00007334\"\u001b[0m\u001b[1;33m,\u001b[0m\u001b[1;34m\"description\"\u001b[0m\u001b[1;33m:\u001b[0m\u001b[0mnull\u001b[0m\u001b[1;33m,\u001b[0m\u001b[1;34m\"imgPath\"\u001b[0m\u001b[1;33m:\u001b[0m\u001b[1;34m\"upload\\/202109\\/610aa26a-a259-4d6b-ad7f-5f4647d715bb.jpg\"\u001b[0m\u001b[1;33m,\u001b[0m\u001b[1;34m\"issueTime\"\u001b[0m\u001b[1;33m:\u001b[0m\u001b[0mnull\u001b[0m\u001b[1;33m,\u001b[0m\u001b[1;34m\"keywords\"\u001b[0m\u001b[1;33m:\u001b[0m\u001b[1;34m\"\"\u001b[0m\u001b[1;33m,\u001b[0m\u001b[1;34m\"langName\"\u001b[0m\u001b[1;33m:\u001b[0m\u001b[1;34m\"??\"\u001b[0m\u001b[1;33m,\u001b[0m\u001b[1;34m\"name\"\u001b[0m\u001b[1;33m:\u001b[0m\u001b[1;34m\"??? ???????\"\u001b[0m\u001b[1;33m,\u001b[0m\u001b[1;34m\"picPath\"\u001b[0m\u001b[1;33m:\u001b[0m\u001b[1;34m\"upload\\/202109\\/1cfd9959-0fa4-47d2-814a-2af74557f82e.jpg\"\u001b[0m\u001b[1;33m,\u001b[0m\u001b[1;34m\"picPath2\"\u001b[0m\u001b[1;33m:\u001b[0m\u001b[0mnull\u001b[0m\u001b[1;33m,\u001b[0m\u001b[1;34m\"recordId\"\u001b[0m\u001b[1;33m:\u001b[0m\u001b[1;36m46374\u001b[0m\u001b[1;33m,\u001b[0m\u001b[1;34m\"sn\"\u001b[0m\u001b[1;33m:\u001b[0m\u001b[1;34m\"78419\"\u001b[0m\u001b[1;33m,\u001b[0m\u001b[1;34m\"subtypeName\"\u001b[0m\u001b[1;33m:\u001b[0m\u001b[1;34m\"\"\u001b[0m\u001b[1;33m,\u001b[0m\u001b[1;34m\"typeName\"\u001b[0m\u001b[1;33m:\u001b[0m\u001b[1;34m\"??\"\u001b[0m\u001b[1;33m,\u001b[0m\u001b[1;34m\"updateTime\"\u001b[0m\u001b[1;33m:\u001b[0m\u001b[1;34m\"2021-09-13 12:02:02\"\u001b[0m\u001b[1;33m}\u001b[0m\u001b[1;33m,\u001b[0m\u001b[1;34m\"optCounter\"\u001b[0m\u001b[1;33m:\u001b[0m\u001b[1;36m0\u001b[0m\u001b[1;33m,\u001b[0m\u001b[1;34m\"sortNo\"\u001b[0m\u001b[1;33m:\u001b[0m\u001b[1;36m0\u001b[0m\u001b[1;33m}\u001b[0m\u001b[1;33m,\u001b[0m\u001b[1;33m{\u001b[0m\u001b[1;34m\"code\"\u001b[0m\u001b[1;33m:\u001b[0m\u001b[1;34m\"CI00005593\"\u001b[0m\u001b[1;33m,\u001b[0m\u001b[1;34m\"id\"\u001b[0m\u001b[1;33m:\u001b[0m\u001b[1;36m67545\u001b[0m\u001b[1;33m,\u001b[0m\u001b[1;34m\"museumEntity\"\u001b[0m\u001b[1;33m:\u001b[0m\u001b[1;33m{\u001b[0m\u001b[1;34m\"catalog\"\u001b[0m\u001b[1;33m:\u001b[0m\u001b[0mnull\u001b[0m\u001b[1;33m,\u001b[0m\u001b[1;34m\"code\"\u001b[0m\u001b[1;33m:\u001b[0m\u001b[1;34m\"E00004128\"\u001b[0m\u001b[1;33m,\u001b[0m\u001b[1;34m\"description\"\u001b[0m\u001b[1;33m:\u001b[0m\u001b[1;34m\"<p style=\\\"text-indent: 2em;\\\">??????????????,????????????<span>1949<\\/span>?<span>9<\\/span>?<span>7<\\/span>?,??????????????????????????;<a name=\\\"_GoBack\\\"><\\/a><span>1950<\\/span>?<span>1<\\/span>?<span>20<\\/span>?,??????????????????????????????????,?????????????????&ldquo;???????????????????&rdquo;???,??????????????????????????????????????????????????,???????????????????,?<span>20<\\/span>??????????????????????????????????????????????<\\/p>\"\u001b[0m\u001b[1;33m,\u001b[0m\u001b[1;34m\"imgPath\"\u001b[0m\u001b[1;33m:\u001b[0m\u001b[0mnull\u001b[0m\u001b[1;33m,\u001b[0m\u001b[1;34m\"issueTime\"\u001b[0m\u001b[1;33m:\u001b[0m\u001b[1;34m\"2021-09-15 14:34:32\"\u001b[0m\u001b[1;33m,\u001b[0m\u001b[1;34m\"keywords\"\u001b[0m\u001b[1;33m:\u001b[0m\u001b[0mnull\u001b[0m\u001b[1;33m,\u001b[0m\u001b[1;34m\"langName\"\u001b[0m\u001b[1;33m:\u001b[0m\u001b[1;34m\"??\"\u001b[0m\u001b[1;33m,\u001b[0m\u001b[1;34m\"name\"\u001b[0m\u001b[1;33m:\u001b[0m\u001b[1;34m\"????:??????????\"\u001b[0m\u001b[1;33m,\u001b[0m\u001b[1;34m\"picPath\"\u001b[0m\u001b[1;33m:\u001b[0m\u001b[1;34m\"upload\\/202109\\/bbe5f31e-87a9-417c-9a38-0f92e6ba30a8.jpg\"\u001b[0m\u001b[1;33m,\u001b[0m\u001b[1;34m\"picPath2\"\u001b[0m\u001b[1;33m:\u001b[0m\u001b[0mnull\u001b[0m\u001b[1;33m,\u001b[0m\u001b[1;34m\"recordId\"\u001b[0m\u001b[1;33m:\u001b[0m\u001b[1;36m30366\u001b[0m\u001b[1;33m,\u001b[0m\u001b[1;34m\"sn\"\u001b[0m\u001b[1;33m:\u001b[0m\u001b[1;34m\"20210928\"\u001b[0m\u001b[1;33m,\u001b[0m\u001b[1;34m\"subtypeName\"\u001b[0m\u001b[1;33m:\u001b[0m\u001b[1;34m\"\"\u001b[0m\u001b[1;33m,\u001b[0m\u001b[1;34m\"typeName\"\u001b[0m\u001b[1;33m:\u001b[0m\u001b[1;34m\"????\"\u001b[0m\u001b[1;33m,\u001b[0m\u001b[1;34m\"updateTime\"\u001b[0m\u001b[1;33m:\u001b[0m\u001b[1;34m\"2021-12-06 09:41:46\"\u001b[0m\u001b[1;33m}\u001b[0m\u001b[1;33m,\u001b[0m\u001b[1;34m\"optCounter\"\u001b[0m\u001b[1;33m:\u001b[0m\u001b[1;36m0\u001b[0m\u001b[1;33m,\u001b[0m\u001b[1;34m\"sortNo\"\u001b[0m\u001b[1;33m:\u001b[0m\u001b[1;36m1\u001b[0m\u001b[1;33m}\u001b[0m\u001b[1;33m]\u001b[0m\u001b[1;33m\u001b[0m\u001b[0m\n\u001b[0m",
      "\u001b[1;31mNameError\u001b[0m: name 'null' is not defined"
     ]
    }
   ],
   "source": [
    "d = [{\"code\":\"CI00005593\",\"id\":67493,\"museumEntity\":{\"catalog\":null,\"code\":\"P00007334\",\"description\":null,\"imgPath\":\"upload\\/202109\\/610aa26a-a259-4d6b-ad7f-5f4647d715bb.jpg\",\"issueTime\":null,\"keywords\":\"\",\"langName\":\"??\",\"name\":\"??? ???????\",\"picPath\":\"upload\\/202109\\/1cfd9959-0fa4-47d2-814a-2af74557f82e.jpg\",\"picPath2\":null,\"recordId\":46374,\"sn\":\"78419\",\"subtypeName\":\"\",\"typeName\":\"??\",\"updateTime\":\"2021-09-13 12:02:02\"},\"optCounter\":0,\"sortNo\":0},{\"code\":\"CI00005593\",\"id\":67545,\"museumEntity\":{\"catalog\":null,\"code\":\"E00004128\",\"description\":\"<p style=\\\"text-indent: 2em;\\\">??????????????,????????????<span>1949<\\/span>?<span>9<\\/span>?<span>7<\\/span>?,??????????????????????????;<a name=\\\"_GoBack\\\"><\\/a><span>1950<\\/span>?<span>1<\\/span>?<span>20<\\/span>?,??????????????????????????????????,?????????????????&ldquo;???????????????????&rdquo;???,??????????????????????????????????????????????????,???????????????????,?<span>20<\\/span>??????????????????????????????????????????????<\\/p>\",\"imgPath\":null,\"issueTime\":\"2021-09-15 14:34:32\",\"keywords\":null,\"langName\":\"??\",\"name\":\"????:??????????\",\"picPath\":\"upload\\/202109\\/bbe5f31e-87a9-417c-9a38-0f92e6ba30a8.jpg\",\"picPath2\":null,\"recordId\":30366,\"sn\":\"20210928\",\"subtypeName\":\"\",\"typeName\":\"????\",\"updateTime\":\"2021-12-06 09:41:46\"},\"optCounter\":0,\"sortNo\":1}]"
   ]
  },
  {
   "cell_type": "code",
   "execution_count": 83,
   "metadata": {
    "ExecuteTime": {
     "end_time": "2022-02-13T10:03:35.826085Z",
     "start_time": "2022-02-13T10:03:35.809013Z"
    }
   },
   "outputs": [
    {
     "ename": "NameError",
     "evalue": "name 'null' is not defined",
     "output_type": "error",
     "traceback": [
      "\u001b[1;31m---------------------------------------------------------------------------\u001b[0m",
      "\u001b[1;31mNameError\u001b[0m                                 Traceback (most recent call last)",
      "\u001b[1;32m<ipython-input-83-0468e443e836>\u001b[0m in \u001b[0;36m<module>\u001b[1;34m()\u001b[0m\n\u001b[1;32m----> 1\u001b[1;33m \u001b[0ma\u001b[0m \u001b[1;33m=\u001b[0m \u001b[1;33m[\u001b[0m\u001b[1;33m{\u001b[0m\u001b[1;34m\"code\"\u001b[0m\u001b[1;33m:\u001b[0m\u001b[1;34m\"CI00005593\"\u001b[0m\u001b[1;33m,\u001b[0m\u001b[1;34m\"id\"\u001b[0m\u001b[1;33m:\u001b[0m\u001b[1;36m67493\u001b[0m\u001b[1;33m,\u001b[0m\u001b[1;34m\"museumEntity\"\u001b[0m\u001b[1;33m:\u001b[0m\u001b[1;33m{\u001b[0m\u001b[1;34m\"catalog\"\u001b[0m\u001b[1;33m:\u001b[0m\u001b[0mnull\u001b[0m\u001b[1;33m,\u001b[0m\u001b[1;34m\"code\"\u001b[0m\u001b[1;33m:\u001b[0m\u001b[1;34m\"P00007334\"\u001b[0m\u001b[1;33m,\u001b[0m\u001b[1;34m\"description\"\u001b[0m\u001b[1;33m:\u001b[0m\u001b[0mnull\u001b[0m\u001b[1;33m,\u001b[0m\u001b[1;34m\"imgPath\"\u001b[0m\u001b[1;33m:\u001b[0m\u001b[1;34m\"upload\\/202109\\/610aa26a-a259-4d6b-ad7f-5f4647d715bb.jpg\"\u001b[0m\u001b[1;33m,\u001b[0m\u001b[1;34m\"issueTime\"\u001b[0m\u001b[1;33m:\u001b[0m\u001b[0mnull\u001b[0m\u001b[1;33m,\u001b[0m\u001b[1;34m\"keywords\"\u001b[0m\u001b[1;33m:\u001b[0m\u001b[1;34m\"\"\u001b[0m\u001b[1;33m,\u001b[0m\u001b[1;34m\"langName\"\u001b[0m\u001b[1;33m:\u001b[0m\u001b[1;34m\"??\"\u001b[0m\u001b[1;33m,\u001b[0m\u001b[1;34m\"name\"\u001b[0m\u001b[1;33m:\u001b[0m\u001b[1;34m\"??? ???????\"\u001b[0m\u001b[1;33m,\u001b[0m\u001b[1;34m\"picPath\"\u001b[0m\u001b[1;33m:\u001b[0m\u001b[1;34m\"upload\\/202109\\/1cfd9959-0fa4-47d2-814a-2af74557f82e.jpg\"\u001b[0m\u001b[1;33m,\u001b[0m\u001b[1;34m\"picPath2\"\u001b[0m\u001b[1;33m:\u001b[0m\u001b[0mnull\u001b[0m\u001b[1;33m,\u001b[0m\u001b[1;34m\"recordId\"\u001b[0m\u001b[1;33m:\u001b[0m\u001b[1;36m46374\u001b[0m\u001b[1;33m,\u001b[0m\u001b[1;34m\"sn\"\u001b[0m\u001b[1;33m:\u001b[0m\u001b[1;34m\"78419\"\u001b[0m\u001b[1;33m,\u001b[0m\u001b[1;34m\"subtypeName\"\u001b[0m\u001b[1;33m:\u001b[0m\u001b[1;34m\"\"\u001b[0m\u001b[1;33m,\u001b[0m\u001b[1;34m\"typeName\"\u001b[0m\u001b[1;33m:\u001b[0m\u001b[1;34m\"??\"\u001b[0m\u001b[1;33m,\u001b[0m\u001b[1;34m\"updateTime\"\u001b[0m\u001b[1;33m:\u001b[0m\u001b[1;34m\"2021-09-13 12:02:02\"\u001b[0m\u001b[1;33m}\u001b[0m\u001b[1;33m,\u001b[0m\u001b[1;34m\"optCounter\"\u001b[0m\u001b[1;33m:\u001b[0m\u001b[1;36m0\u001b[0m\u001b[1;33m,\u001b[0m\u001b[1;34m\"sortNo\"\u001b[0m\u001b[1;33m:\u001b[0m\u001b[1;36m0\u001b[0m\u001b[1;33m}\u001b[0m\u001b[1;33m,\u001b[0m\u001b[1;33m{\u001b[0m\u001b[1;34m\"code\"\u001b[0m\u001b[1;33m:\u001b[0m\u001b[1;34m\"CI00005593\"\u001b[0m\u001b[1;33m,\u001b[0m\u001b[1;34m\"id\"\u001b[0m\u001b[1;33m:\u001b[0m\u001b[1;36m67545\u001b[0m\u001b[1;33m,\u001b[0m\u001b[1;34m\"museumEntity\"\u001b[0m\u001b[1;33m:\u001b[0m\u001b[1;33m{\u001b[0m\u001b[1;34m\"catalog\"\u001b[0m\u001b[1;33m:\u001b[0m\u001b[0mnull\u001b[0m\u001b[1;33m,\u001b[0m\u001b[1;34m\"code\"\u001b[0m\u001b[1;33m:\u001b[0m\u001b[1;34m\"E00004128\"\u001b[0m\u001b[1;33m,\u001b[0m\u001b[1;34m\"description\"\u001b[0m\u001b[1;33m:\u001b[0m\u001b[1;34m\"<p style=\\\"text-indent: 2em;\\\">??????????????,????????????<span>1949<\\/span>?<span>9<\\/span>?<span>7<\\/span>?,??????????????????????????;<a name=\\\"_GoBack\\\"><\\/a><span>1950<\\/span>?<span>1<\\/span>?<span>20<\\/span>?,??????????????????????????????????,?????????????????&ldquo;???????????????????&rdquo;???,??????????????????????????????????????????????????,???????????????????,?<span>20<\\/span>??????????????????????????????????????????????<\\/p>\"\u001b[0m\u001b[1;33m,\u001b[0m\u001b[1;34m\"imgPath\"\u001b[0m\u001b[1;33m:\u001b[0m\u001b[0mnull\u001b[0m\u001b[1;33m,\u001b[0m\u001b[1;34m\"issueTime\"\u001b[0m\u001b[1;33m:\u001b[0m\u001b[1;34m\"2021-09-15 14:34:32\"\u001b[0m\u001b[1;33m,\u001b[0m\u001b[1;34m\"keywords\"\u001b[0m\u001b[1;33m:\u001b[0m\u001b[0mnull\u001b[0m\u001b[1;33m,\u001b[0m\u001b[1;34m\"langName\"\u001b[0m\u001b[1;33m:\u001b[0m\u001b[1;34m\"??\"\u001b[0m\u001b[1;33m,\u001b[0m\u001b[1;34m\"name\"\u001b[0m\u001b[1;33m:\u001b[0m\u001b[1;34m\"????:??????????\"\u001b[0m\u001b[1;33m,\u001b[0m\u001b[1;34m\"picPath\"\u001b[0m\u001b[1;33m:\u001b[0m\u001b[1;34m\"upload\\/202109\\/bbe5f31e-87a9-417c-9a38-0f92e6ba30a8.jpg\"\u001b[0m\u001b[1;33m,\u001b[0m\u001b[1;34m\"picPath2\"\u001b[0m\u001b[1;33m:\u001b[0m\u001b[0mnull\u001b[0m\u001b[1;33m,\u001b[0m\u001b[1;34m\"recordId\"\u001b[0m\u001b[1;33m:\u001b[0m\u001b[1;36m30366\u001b[0m\u001b[1;33m,\u001b[0m\u001b[1;34m\"sn\"\u001b[0m\u001b[1;33m:\u001b[0m\u001b[1;34m\"20210928\"\u001b[0m\u001b[1;33m,\u001b[0m\u001b[1;34m\"subtypeName\"\u001b[0m\u001b[1;33m:\u001b[0m\u001b[1;34m\"\"\u001b[0m\u001b[1;33m,\u001b[0m\u001b[1;34m\"typeName\"\u001b[0m\u001b[1;33m:\u001b[0m\u001b[1;34m\"????\"\u001b[0m\u001b[1;33m,\u001b[0m\u001b[1;34m\"updateTime\"\u001b[0m\u001b[1;33m:\u001b[0m\u001b[1;34m\"2021-12-06 09:41:46\"\u001b[0m\u001b[1;33m}\u001b[0m\u001b[1;33m,\u001b[0m\u001b[1;34m\"optCounter\"\u001b[0m\u001b[1;33m:\u001b[0m\u001b[1;36m0\u001b[0m\u001b[1;33m,\u001b[0m\u001b[1;34m\"sortNo\"\u001b[0m\u001b[1;33m:\u001b[0m\u001b[1;36m1\u001b[0m\u001b[1;33m}\u001b[0m\u001b[1;33m]\u001b[0m\u001b[1;33m\u001b[0m\u001b[0m\n\u001b[0m",
      "\u001b[1;31mNameError\u001b[0m: name 'null' is not defined"
     ]
    }
   ],
   "source": [
    "a = [{\"code\":\"CI00005593\",\"id\":67493,\"museumEntity\":{\"catalog\":null,\"code\":\"P00007334\",\"description\":null,\"imgPath\":\"upload\\/202109\\/610aa26a-a259-4d6b-ad7f-5f4647d715bb.jpg\",\"issueTime\":null,\"keywords\":\"\",\"langName\":\"??\",\"name\":\"??? ???????\",\"picPath\":\"upload\\/202109\\/1cfd9959-0fa4-47d2-814a-2af74557f82e.jpg\",\"picPath2\":null,\"recordId\":46374,\"sn\":\"78419\",\"subtypeName\":\"\",\"typeName\":\"??\",\"updateTime\":\"2021-09-13 12:02:02\"},\"optCounter\":0,\"sortNo\":0},{\"code\":\"CI00005593\",\"id\":67545,\"museumEntity\":{\"catalog\":null,\"code\":\"E00004128\",\"description\":\"<p style=\\\"text-indent: 2em;\\\">??????????????,????????????<span>1949<\\/span>?<span>9<\\/span>?<span>7<\\/span>?,??????????????????????????;<a name=\\\"_GoBack\\\"><\\/a><span>1950<\\/span>?<span>1<\\/span>?<span>20<\\/span>?,??????????????????????????????????,?????????????????&ldquo;???????????????????&rdquo;???,??????????????????????????????????????????????????,???????????????????,?<span>20<\\/span>??????????????????????????????????????????????<\\/p>\",\"imgPath\":null,\"issueTime\":\"2021-09-15 14:34:32\",\"keywords\":null,\"langName\":\"??\",\"name\":\"????:??????????\",\"picPath\":\"upload\\/202109\\/bbe5f31e-87a9-417c-9a38-0f92e6ba30a8.jpg\",\"picPath2\":null,\"recordId\":30366,\"sn\":\"20210928\",\"subtypeName\":\"\",\"typeName\":\"????\",\"updateTime\":\"2021-12-06 09:41:46\"},\"optCounter\":0,\"sortNo\":1}]"
   ]
  },
  {
   "cell_type": "code",
   "execution_count": 84,
   "metadata": {
    "ExecuteTime": {
     "end_time": "2022-02-13T10:04:47.515298Z",
     "start_time": "2022-02-13T10:04:47.504041Z"
    }
   },
   "outputs": [
    {
     "ename": "NameError",
     "evalue": "name 'null' is not defined",
     "output_type": "error",
     "traceback": [
      "\u001b[1;31m---------------------------------------------------------------------------\u001b[0m",
      "\u001b[1;31mNameError\u001b[0m                                 Traceback (most recent call last)",
      "\u001b[1;32m<ipython-input-84-40cdccb20c36>\u001b[0m in \u001b[0;36m<module>\u001b[1;34m()\u001b[0m\n\u001b[1;32m----> 1\u001b[1;33m \u001b[0md\u001b[0m \u001b[1;33m=\u001b[0m \u001b[1;33m{\u001b[0m\u001b[1;34m\"code\"\u001b[0m\u001b[1;33m:\u001b[0m\u001b[1;34m\"CI00005593\"\u001b[0m\u001b[1;33m,\u001b[0m\u001b[1;34m\"id\"\u001b[0m\u001b[1;33m:\u001b[0m\u001b[1;36m67493\u001b[0m\u001b[1;33m,\u001b[0m\u001b[1;34m\"museumEntity\"\u001b[0m\u001b[1;33m:\u001b[0m\u001b[1;33m{\u001b[0m\u001b[1;34m\"catalog\"\u001b[0m\u001b[1;33m:\u001b[0m\u001b[0mnull\u001b[0m\u001b[1;33m,\u001b[0m\u001b[1;34m\"code\"\u001b[0m\u001b[1;33m:\u001b[0m\u001b[1;34m\"P00007334\"\u001b[0m\u001b[1;33m,\u001b[0m\u001b[1;34m\"description\"\u001b[0m\u001b[1;33m:\u001b[0m\u001b[0mnull\u001b[0m\u001b[1;33m,\u001b[0m\u001b[1;34m\"imgPath\"\u001b[0m\u001b[1;33m:\u001b[0m\u001b[1;34m\"upload\\/202109\\/610aa26a-a259-4d6b-ad7f-5f4647d715bb.jpg\"\u001b[0m\u001b[1;33m,\u001b[0m\u001b[1;34m\"issueTime\"\u001b[0m\u001b[1;33m:\u001b[0m\u001b[0mnull\u001b[0m\u001b[1;33m,\u001b[0m\u001b[1;34m\"keywords\"\u001b[0m\u001b[1;33m:\u001b[0m\u001b[1;34m\"\"\u001b[0m\u001b[1;33m,\u001b[0m\u001b[1;34m\"langName\"\u001b[0m\u001b[1;33m:\u001b[0m\u001b[1;34m\"??\"\u001b[0m\u001b[1;33m,\u001b[0m\u001b[1;34m\"name\"\u001b[0m\u001b[1;33m:\u001b[0m\u001b[1;34m\"??? ???????\"\u001b[0m\u001b[1;33m,\u001b[0m\u001b[1;34m\"picPath\"\u001b[0m\u001b[1;33m:\u001b[0m\u001b[1;34m\"upload\\/202109\\/1cfd9959-0fa4-47d2-814a-2af74557f82e.jpg\"\u001b[0m\u001b[1;33m,\u001b[0m\u001b[1;34m\"picPath2\"\u001b[0m\u001b[1;33m:\u001b[0m\u001b[0mnull\u001b[0m\u001b[1;33m,\u001b[0m\u001b[1;34m\"recordId\"\u001b[0m\u001b[1;33m:\u001b[0m\u001b[1;36m46374\u001b[0m\u001b[1;33m,\u001b[0m\u001b[1;34m\"sn\"\u001b[0m\u001b[1;33m:\u001b[0m\u001b[1;34m\"78419\"\u001b[0m\u001b[1;33m,\u001b[0m\u001b[1;34m\"subtypeName\"\u001b[0m\u001b[1;33m:\u001b[0m\u001b[1;34m\"\"\u001b[0m\u001b[1;33m,\u001b[0m\u001b[1;34m\"typeName\"\u001b[0m\u001b[1;33m:\u001b[0m\u001b[1;34m\"??\"\u001b[0m\u001b[1;33m,\u001b[0m\u001b[1;34m\"updateTime\"\u001b[0m\u001b[1;33m:\u001b[0m\u001b[1;34m\"2021-09-13 12:02:02\"\u001b[0m\u001b[1;33m}\u001b[0m\u001b[1;33m,\u001b[0m\u001b[1;34m\"optCounter\"\u001b[0m\u001b[1;33m:\u001b[0m\u001b[1;36m0\u001b[0m\u001b[1;33m,\u001b[0m\u001b[1;34m\"sortNo\"\u001b[0m\u001b[1;33m:\u001b[0m\u001b[1;36m0\u001b[0m\u001b[1;33m}\u001b[0m\u001b[1;33m\u001b[0m\u001b[0m\n\u001b[0m",
      "\u001b[1;31mNameError\u001b[0m: name 'null' is not defined"
     ]
    }
   ],
   "source": [
    "d = {\"code\":\"CI00005593\",\"id\":67493,\"museumEntity\":{\"catalog\":null,\"code\":\"P00007334\",\"description\":null,\"imgPath\":\"upload\\/202109\\/610aa26a-a259-4d6b-ad7f-5f4647d715bb.jpg\",\"issueTime\":null,\"keywords\":\"\",\"langName\":\"??\",\"name\":\"??? ???????\",\"picPath\":\"upload\\/202109\\/1cfd9959-0fa4-47d2-814a-2af74557f82e.jpg\",\"picPath2\":null,\"recordId\":46374,\"sn\":\"78419\",\"subtypeName\":\"\",\"typeName\":\"??\",\"updateTime\":\"2021-09-13 12:02:02\"},\"optCounter\":0,\"sortNo\":0}"
   ]
  },
  {
   "cell_type": "code",
   "execution_count": 86,
   "metadata": {
    "ExecuteTime": {
     "end_time": "2022-02-13T10:08:16.033792Z",
     "start_time": "2022-02-13T10:08:16.024818Z"
    }
   },
   "outputs": [],
   "source": [
    "d = {\"code\":\"CI00005593\",\"id\":67493,\"museumEntity\":{\"catalog\":\"null\",\"code\":\"P00007334\",\"description\":\"null\",\"imgPath\":\"upload\\/202109\\/610aa26a-a259-4d6b-ad7f-5f4647d715bb.jpg\",\"issueTime\":\"null\",\"keywords\":\"\",\"langName\":\"??\",\"name\":\"??? ???????\",\"picPath\":\"upload\\/202109\\/1cfd9959-0fa4-47d2-814a-2af74557f82e.jpg\",\"picPath2\":\"null\",\"recordId\":46374,\"sn\":\"78419\",\"subtypeName\":\"\",\"typeName\":\"??\",\"updateTime\":\"2021-09-13 12:02:02\"}}"
   ]
  },
  {
   "cell_type": "code",
   "execution_count": 87,
   "metadata": {
    "ExecuteTime": {
     "end_time": "2022-02-13T10:08:21.648775Z",
     "start_time": "2022-02-13T10:08:21.638775Z"
    }
   },
   "outputs": [
    {
     "data": {
      "text/plain": [
       "{'code': 'CI00005593',\n",
       " 'id': 67493,\n",
       " 'museumEntity': {'catalog': 'null',\n",
       "  'code': 'P00007334',\n",
       "  'description': 'null',\n",
       "  'imgPath': 'upload\\\\/202109\\\\/610aa26a-a259-4d6b-ad7f-5f4647d715bb.jpg',\n",
       "  'issueTime': 'null',\n",
       "  'keywords': '',\n",
       "  'langName': '??',\n",
       "  'name': '??? ???????',\n",
       "  'picPath': 'upload\\\\/202109\\\\/1cfd9959-0fa4-47d2-814a-2af74557f82e.jpg',\n",
       "  'picPath2': 'null',\n",
       "  'recordId': 46374,\n",
       "  'sn': '78419',\n",
       "  'subtypeName': '',\n",
       "  'typeName': '??',\n",
       "  'updateTime': '2021-09-13 12:02:02'}}"
      ]
     },
     "execution_count": 87,
     "metadata": {},
     "output_type": "execute_result"
    }
   ],
   "source": [
    "d"
   ]
  },
  {
   "cell_type": "code",
   "execution_count": 88,
   "metadata": {
    "ExecuteTime": {
     "end_time": "2022-02-13T10:12:42.014694Z",
     "start_time": "2022-02-13T10:12:41.999694Z"
    }
   },
   "outputs": [],
   "source": [
    "import json"
   ]
  },
  {
   "cell_type": "code",
   "execution_count": 95,
   "metadata": {
    "ExecuteTime": {
     "end_time": "2022-02-13T10:14:07.844976Z",
     "start_time": "2022-02-13T10:14:07.829908Z"
    }
   },
   "outputs": [],
   "source": [
    "a = open('meta.data', encoding='utf-8').readlines()[0].strip()"
   ]
  },
  {
   "cell_type": "code",
   "execution_count": 96,
   "metadata": {
    "ExecuteTime": {
     "end_time": "2022-02-13T10:14:08.329848Z",
     "start_time": "2022-02-13T10:14:08.319875Z"
    }
   },
   "outputs": [
    {
     "data": {
      "text/plain": [
       "'[{\"code\":\"CI00005593\",\"id\":67493,\"museumEntity\":{\"catalog\":\"null\",\"code\":\"P00007334\",\"description\":\"null\",\"imgPath\":\"upload\\\\/202109\\\\/610aa26a-a259-4d6b-ad7f-5f4647d715bb.jpg\",\"issueTime\":\"null\",\"keywords\":\"\",\"langName\":\"中文\",\"name\":\"李叔同 行书华严经句轴\",\"picPath\":\"upload\\\\/202109\\\\/1cfd9959-0fa4-47d2-814a-2af74557f82e.jpg\",\"picPath2\":\"null\",\"recordId\":46374,\"sn\":\"78419\",\"subtypeName\":\"\",\"typeName\":\"图片\",\"updateTime\":\"2021-09-13 12:02:02\"},\"optCounter\":0,\"sortNo\":0},{\"code\":\"CI00005593\",\"id\":67545,\"museumEntity\":{\"catalog\":\"null\",\"code\":\"E00004128\",\"description\":\"<p style=\\\\\"text-indent: 2em;\\\\\">回顾上海博物馆受赠文物的历史，可以追溯到上博成立之前。<span>1949<\\\\/span>年<span>9<\\\\/span>月<span>7<\\\\/span>日，上海市军事管制委员会批准成立上海市古代文物管理委员会；<a name=\\\\\"_GoBack\\\\\"><\\\\/a><span>1950<\\\\/span>年<span>1<\\\\/span>月<span>20<\\\\/span>日，上海市人民政府批准上海市古代文物管理委员会改名为上海市文物管理委员会，并准备在上海这个国际大都市筹建一个&ldquo;具有规模的代表中国优秀文化传统的博物馆&rdquo;。为此，以胡惠春、潘达于、谭敬、沈同樾、顾丽江、乐笃周、孙煜峰、丁燮柔、罗伯昭、李伟先等为代表的一大批收藏家，踊跃向上海市文管会、上海博物馆捐赠文物，在<span>20<\\\\/span>世纪五六十年代形成了第一次文物捐赠高潮。文物收藏者通过捐赠的方式积极投身于新中国的文化建设。<\\\\/p>\",\"imgPath\":\"null\",\"issueTime\":\"2021-09-15 14:34:32\",\"keywords\":\"null\",\"langName\":\"中文\",\"name\":\"高山景行：上海博物馆受赠文物展\",\"picPath\":\"upload\\\\/202109\\\\/bbe5f31e-87a9-417c-9a38-0f92e6ba30a8.jpg\",\"picPath2\":\"null\",\"recordId\":30366,\"sn\":\"20210928\",\"subtypeName\":\"\",\"typeName\":\"特别展览\",\"updateTime\":\"2021-12-06 09:41:46\"},\"optCounter\":0,\"sortNo\":1}]'"
      ]
     },
     "execution_count": 96,
     "metadata": {},
     "output_type": "execute_result"
    }
   ],
   "source": [
    "a"
   ]
  },
  {
   "cell_type": "code",
   "execution_count": 97,
   "metadata": {
    "ExecuteTime": {
     "end_time": "2022-02-13T10:14:18.491409Z",
     "start_time": "2022-02-13T10:14:18.479108Z"
    }
   },
   "outputs": [],
   "source": [
    "b = json.loads(a)"
   ]
  },
  {
   "cell_type": "code",
   "execution_count": 114,
   "metadata": {
    "ExecuteTime": {
     "end_time": "2022-02-13T11:18:14.575211Z",
     "start_time": "2022-02-13T11:18:14.563066Z"
    }
   },
   "outputs": [
    {
     "data": {
      "text/plain": [
       "[{'code': 'CI00005593',\n",
       "  'id': 67493,\n",
       "  'museumEntity': {'catalog': 'null',\n",
       "   'code': 'P00007334',\n",
       "   'description': 'null',\n",
       "   'imgPath': 'upload/202109/610aa26a-a259-4d6b-ad7f-5f4647d715bb.jpg',\n",
       "   'issueTime': 'null',\n",
       "   'keywords': '',\n",
       "   'langName': '中文',\n",
       "   'name': '李叔同 行书华严经句轴',\n",
       "   'picPath': 'upload/202109/1cfd9959-0fa4-47d2-814a-2af74557f82e.jpg',\n",
       "   'picPath2': 'null',\n",
       "   'recordId': 46374,\n",
       "   'sn': '78419',\n",
       "   'subtypeName': '',\n",
       "   'typeName': '图片',\n",
       "   'updateTime': '2021-09-13 12:02:02'},\n",
       "  'optCounter': 0,\n",
       "  'sortNo': 0},\n",
       " {'code': 'CI00005593',\n",
       "  'id': 67545,\n",
       "  'museumEntity': {'catalog': 'null',\n",
       "   'code': 'E00004128',\n",
       "   'description': '<p style=\"text-indent: 2em;\">回顾上海博物馆受赠文物的历史，可以追溯到上博成立之前。<span>1949</span>年<span>9</span>月<span>7</span>日，上海市军事管制委员会批准成立上海市古代文物管理委员会；<a name=\"_GoBack\"></a><span>1950</span>年<span>1</span>月<span>20</span>日，上海市人民政府批准上海市古代文物管理委员会改名为上海市文物管理委员会，并准备在上海这个国际大都市筹建一个&ldquo;具有规模的代表中国优秀文化传统的博物馆&rdquo;。为此，以胡惠春、潘达于、谭敬、沈同樾、顾丽江、乐笃周、孙煜峰、丁燮柔、罗伯昭、李伟先等为代表的一大批收藏家，踊跃向上海市文管会、上海博物馆捐赠文物，在<span>20</span>世纪五六十年代形成了第一次文物捐赠高潮。文物收藏者通过捐赠的方式积极投身于新中国的文化建设。</p>',\n",
       "   'imgPath': 'null',\n",
       "   'issueTime': '2021-09-15 14:34:32',\n",
       "   'keywords': 'null',\n",
       "   'langName': '中文',\n",
       "   'name': '高山景行：上海博物馆受赠文物展',\n",
       "   'picPath': 'upload/202109/bbe5f31e-87a9-417c-9a38-0f92e6ba30a8.jpg',\n",
       "   'picPath2': 'null',\n",
       "   'recordId': 30366,\n",
       "   'sn': '20210928',\n",
       "   'subtypeName': '',\n",
       "   'typeName': '特别展览',\n",
       "   'updateTime': '2021-12-06 09:41:46'},\n",
       "  'optCounter': 0,\n",
       "  'sortNo': 1}]"
      ]
     },
     "execution_count": 114,
     "metadata": {},
     "output_type": "execute_result"
    }
   ],
   "source": [
    "b"
   ]
  },
  {
   "cell_type": "code",
   "execution_count": 99,
   "metadata": {
    "ExecuteTime": {
     "end_time": "2022-02-13T10:14:25.807628Z",
     "start_time": "2022-02-13T10:14:25.801621Z"
    }
   },
   "outputs": [],
   "source": [
    "d = b[0]"
   ]
  },
  {
   "cell_type": "code",
   "execution_count": 100,
   "metadata": {
    "ExecuteTime": {
     "end_time": "2022-02-13T10:14:33.802527Z",
     "start_time": "2022-02-13T10:14:33.783528Z"
    }
   },
   "outputs": [
    {
     "data": {
      "text/plain": [
       "5"
      ]
     },
     "execution_count": 100,
     "metadata": {},
     "output_type": "execute_result"
    }
   ],
   "source": [
    "len(d)"
   ]
  },
  {
   "cell_type": "code",
   "execution_count": 101,
   "metadata": {
    "ExecuteTime": {
     "end_time": "2022-02-13T10:14:35.410363Z",
     "start_time": "2022-02-13T10:14:35.403338Z"
    }
   },
   "outputs": [
    {
     "data": {
      "text/plain": [
       "{'code': 'CI00005593',\n",
       " 'id': 67493,\n",
       " 'museumEntity': {'catalog': 'null',\n",
       "  'code': 'P00007334',\n",
       "  'description': 'null',\n",
       "  'imgPath': 'upload/202109/610aa26a-a259-4d6b-ad7f-5f4647d715bb.jpg',\n",
       "  'issueTime': 'null',\n",
       "  'keywords': '',\n",
       "  'langName': '中文',\n",
       "  'name': '李叔同 行书华严经句轴',\n",
       "  'picPath': 'upload/202109/1cfd9959-0fa4-47d2-814a-2af74557f82e.jpg',\n",
       "  'picPath2': 'null',\n",
       "  'recordId': 46374,\n",
       "  'sn': '78419',\n",
       "  'subtypeName': '',\n",
       "  'typeName': '图片',\n",
       "  'updateTime': '2021-09-13 12:02:02'},\n",
       " 'optCounter': 0,\n",
       " 'sortNo': 0}"
      ]
     },
     "execution_count": 101,
     "metadata": {},
     "output_type": "execute_result"
    }
   ],
   "source": [
    "d"
   ]
  },
  {
   "cell_type": "code",
   "execution_count": 103,
   "metadata": {
    "ExecuteTime": {
     "end_time": "2022-02-13T10:15:02.123890Z",
     "start_time": "2022-02-13T10:15:02.117922Z"
    }
   },
   "outputs": [
    {
     "data": {
      "text/plain": [
       "dict_keys(['catalog', 'code', 'description', 'imgPath', 'issueTime', 'keywords', 'langName', 'name', 'picPath', 'picPath2', 'recordId', 'sn', 'subtypeName', 'typeName', 'updateTime'])"
      ]
     },
     "execution_count": 103,
     "metadata": {},
     "output_type": "execute_result"
    }
   ],
   "source": [
    "d['museumEntity'].keys()"
   ]
  },
  {
   "cell_type": "code",
   "execution_count": 104,
   "metadata": {
    "ExecuteTime": {
     "end_time": "2022-02-13T10:35:37.862804Z",
     "start_time": "2022-02-13T10:34:43.130208Z"
    }
   },
   "outputs": [
    {
     "name": "stdout",
     "output_type": "stream",
     "text": [
      "Collecting pypinyin\n",
      "  Downloading https://files.pythonhosted.org/packages/29/24/39eceaa25584f704efc22d7beb17a887fc92425f82180be28bf0486b2c83/pypinyin-0.46.0-py2.py3-none-any.whl (1.3MB)\n",
      "Installing collected packages: pypinyin\n",
      "Successfully installed pypinyin-0.46.0\n"
     ]
    },
    {
     "name": "stderr",
     "output_type": "stream",
     "text": [
      "WARNING: You are using pip version 19.3.1; however, version 21.3.1 is available.\n",
      "You should consider upgrading via the 'python -m pip install --upgrade pip' command.\n"
     ]
    }
   ],
   "source": [
    "!pip install pypinyin"
   ]
  },
  {
   "cell_type": "code",
   "execution_count": 105,
   "metadata": {
    "ExecuteTime": {
     "end_time": "2022-02-13T10:36:07.312292Z",
     "start_time": "2022-02-13T10:36:07.181229Z"
    }
   },
   "outputs": [],
   "source": [
    "import pypinyin"
   ]
  },
  {
   "cell_type": "code",
   "execution_count": 109,
   "metadata": {
    "ExecuteTime": {
     "end_time": "2022-02-13T10:36:59.305830Z",
     "start_time": "2022-02-13T10:36:59.303826Z"
    }
   },
   "outputs": [],
   "source": [
    "# 不带声调的(style=pypinyin.NORMAL)\n",
    "def pinyin(word):\n",
    "    s = ''\n",
    "    for i in pypinyin.pinyin(word, style=pypinyin.NORMAL):\n",
    "        s += ''.join(i)\n",
    "    return s.upper()"
   ]
  },
  {
   "cell_type": "code",
   "execution_count": 110,
   "metadata": {
    "ExecuteTime": {
     "end_time": "2022-02-13T10:36:59.716173Z",
     "start_time": "2022-02-13T10:36:59.706137Z"
    }
   },
   "outputs": [
    {
     "data": {
      "text/plain": [
       "'JINSHI'"
      ]
     },
     "execution_count": 110,
     "metadata": {},
     "output_type": "execute_result"
    }
   ],
   "source": [
    "pinyin('金石')"
   ]
  },
  {
   "cell_type": "code",
   "execution_count": 111,
   "metadata": {
    "ExecuteTime": {
     "end_time": "2022-02-13T11:11:13.387596Z",
     "start_time": "2022-02-13T11:11:13.376477Z"
    }
   },
   "outputs": [],
   "source": [
    "a = [{\"code\":\"CI00005593\",\"id\":67493,\"museumEntity\":{\"catalog\":\"null\",\"code\":\"P00007334\",\"description\":\"null\",\"imgPath\":\"upload\\/202109\\/610aa26a-a259-4d6b-ad7f-5f4647d715bb.jpg\",\"issueTime\":\"null\",\"keywords\":\"\",\"langName\":\"??\",\"name\":\"??? ???????\",\"picPath\":\"upload\\/202109\\/1cfd9959-0fa4-47d2-814a-2af74557f82e.jpg\",\"picPath2\":\"null\",\"recordId\":46374,\"sn\":\"78419\",\"subtypeName\":\"\",\"typeName\":\"??\",\"updateTime\":\"2021-09-13 12:02:02\"},\"optCounter\":0,\"sortNo\":0},{\"code\":\"CI00005593\",\"id\":67545,\"museumEntity\":{\"catalog\":\"null\",\"code\":\"E00004128\",\"description\":\"<p style=\\\"text-indent: 2em;\\\">??????????????,????????????<span>1949<\\/span>?<span>9<\\/span>?<span>7<\\/span>?,??????????????????????????;<a name=\\\"_GoBack\\\"><\\/a><span>1950<\\/span>?<span>1<\\/span>?<span>20<\\/span>?,??????????????????????????????????,?????????????????&ldquo;???????????????????&rdquo;???,??????????????????????????????????????????????????,???????????????????,?<span>20<\\/span>??????????????????????????????????????????????<\\/p>\",\"imgPath\":\"null\",\"issueTime\":\"2021-09-15 14:34:32\",\"keywords\":\"null\",\"langName\":\"??\",\"name\":\"????:??????????\",\"picPath\":\"upload\\/202109\\/bbe5f31e-87a9-417c-9a38-0f92e6ba30a8.jpg\",\"picPath2\":\"null\",\"recordId\":30366,\"sn\":\"20210928\",\"subtypeName\":\"\",\"typeName\":\"????\",\"updateTime\":\"2021-12-06 09:41:46\"},\"optCounter\":0,\"sortNo\":1}]"
   ]
  },
  {
   "cell_type": "code",
   "execution_count": 112,
   "metadata": {
    "ExecuteTime": {
     "end_time": "2022-02-13T11:11:17.322647Z",
     "start_time": "2022-02-13T11:11:17.315542Z"
    }
   },
   "outputs": [
    {
     "data": {
      "text/plain": [
       "2"
      ]
     },
     "execution_count": 112,
     "metadata": {},
     "output_type": "execute_result"
    }
   ],
   "source": [
    "len(a)\n"
   ]
  },
  {
   "cell_type": "code",
   "execution_count": 113,
   "metadata": {
    "ExecuteTime": {
     "end_time": "2022-02-13T11:11:22.819131Z",
     "start_time": "2022-02-13T11:11:22.800948Z"
    }
   },
   "outputs": [
    {
     "data": {
      "text/plain": [
       "dict_keys(['code', 'id', 'museumEntity', 'optCounter', 'sortNo'])"
      ]
     },
     "execution_count": 113,
     "metadata": {},
     "output_type": "execute_result"
    }
   ],
   "source": [
    "a[0].keys()"
   ]
  },
  {
   "cell_type": "code",
   "execution_count": 121,
   "metadata": {
    "ExecuteTime": {
     "end_time": "2022-02-13T12:21:35.059589Z",
     "start_time": "2022-02-13T12:21:35.005168Z"
    }
   },
   "outputs": [],
   "source": [
    "import requests\n",
    "url = 'https://www.shanghaimuseum.net/mu/upload/202109/1cfd9959-0fa4-47d2-814a-2af74557f82e.jpg'\n",
    "res = requests.get(url)\n",
    "with open('1.jpg', 'wb') as f:\n",
    "    f.write(res.content)"
   ]
  },
  {
   "cell_type": "code",
   "execution_count": 118,
   "metadata": {
    "ExecuteTime": {
     "end_time": "2022-02-13T12:16:18.587974Z",
     "start_time": "2022-02-13T12:16:18.573912Z"
    }
   },
   "outputs": [
    {
     "data": {
      "text/plain": [
       "{'code': 'CI00005593',\n",
       " 'id': 67493,\n",
       " 'museumEntity': {'catalog': 'null',\n",
       "  'code': 'P00007334',\n",
       "  'description': 'null',\n",
       "  'imgPath': 'upload/202109/610aa26a-a259-4d6b-ad7f-5f4647d715bb.jpg',\n",
       "  'issueTime': 'null',\n",
       "  'keywords': '',\n",
       "  'langName': '中文',\n",
       "  'name': '李叔同 行书华严经句轴',\n",
       "  'picPath': 'upload/202109/1cfd9959-0fa4-47d2-814a-2af74557f82e.jpg',\n",
       "  'picPath2': 'null',\n",
       "  'recordId': 46374,\n",
       "  'sn': '78419',\n",
       "  'subtypeName': '',\n",
       "  'typeName': '图片',\n",
       "  'updateTime': '2021-09-13 12:02:02'},\n",
       " 'optCounter': 0,\n",
       " 'sortNo': 0}"
      ]
     },
     "execution_count": 118,
     "metadata": {},
     "output_type": "execute_result"
    }
   ],
   "source": [
    "d"
   ]
  },
  {
   "cell_type": "code",
   "execution_count": 119,
   "metadata": {
    "ExecuteTime": {
     "end_time": "2022-02-13T12:16:26.581378Z",
     "start_time": "2022-02-13T12:16:26.573269Z"
    }
   },
   "outputs": [
    {
     "data": {
      "text/plain": [
       "False"
      ]
     },
     "execution_count": 119,
     "metadata": {},
     "output_type": "execute_result"
    }
   ],
   "source": [
    "'imgPath' in d"
   ]
  },
  {
   "cell_type": "code",
   "execution_count": null,
   "metadata": {},
   "outputs": [],
   "source": []
  }
 ],
 "metadata": {
  "hide_input": false,
  "kernelspec": {
   "display_name": "Python 3",
   "language": "python",
   "name": "python3"
  },
  "language_info": {
   "codemirror_mode": {
    "name": "ipython",
    "version": 3
   },
   "file_extension": ".py",
   "mimetype": "text/x-python",
   "name": "python",
   "nbconvert_exporter": "python",
   "pygments_lexer": "ipython3",
   "version": "3.6.5"
  },
  "toc": {
   "base_numbering": 1,
   "nav_menu": {},
   "number_sections": true,
   "sideBar": true,
   "skip_h1_title": false,
   "title_cell": "Table of Contents",
   "title_sidebar": "Contents",
   "toc_cell": false,
   "toc_position": {},
   "toc_section_display": true,
   "toc_window_display": false
  },
  "varInspector": {
   "cols": {
    "lenName": 16,
    "lenType": 16,
    "lenVar": 40
   },
   "kernels_config": {
    "python": {
     "delete_cmd_postfix": "",
     "delete_cmd_prefix": "del ",
     "library": "var_list.py",
     "varRefreshCmd": "print(var_dic_list())"
    },
    "r": {
     "delete_cmd_postfix": ") ",
     "delete_cmd_prefix": "rm(",
     "library": "var_list.r",
     "varRefreshCmd": "cat(var_dic_list()) "
    }
   },
   "types_to_exclude": [
    "module",
    "function",
    "builtin_function_or_method",
    "instance",
    "_Feature"
   ],
   "window_display": false
  }
 },
 "nbformat": 4,
 "nbformat_minor": 2
}
